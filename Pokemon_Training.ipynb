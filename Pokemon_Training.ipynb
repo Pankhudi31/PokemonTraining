{
  "nbformat": 4,
  "nbformat_minor": 0,
  "metadata": {
    "colab": {
      "name": "Pokemon Training.ipynb",
      "provenance": [],
      "authorship_tag": "ABX9TyMgFq1m058LzAmhudn1NF3H",
      "include_colab_link": true
    },
    "kernelspec": {
      "name": "python3",
      "display_name": "Python 3"
    },
    "language_info": {
      "name": "python"
    }
  },
  "cells": [
    {
      "cell_type": "markdown",
      "metadata": {
        "id": "view-in-github",
        "colab_type": "text"
      },
      "source": [
        "<a href=\"https://colab.research.google.com/github/Pankhudi31/PokemonTraining/blob/main/Pokemon_Training.ipynb\" target=\"_parent\"><img src=\"https://colab.research.google.com/assets/colab-badge.svg\" alt=\"Open In Colab\"/></a>"
      ]
    },
    {
      "cell_type": "code",
      "execution_count": 1,
      "metadata": {
        "colab": {
          "base_uri": "https://localhost:8080/"
        },
        "id": "Z1RfSf_BRM1z",
        "outputId": "8690e5f3-c2c7-47bf-8941-129ebe969f33"
      },
      "outputs": [
        {
          "output_type": "stream",
          "name": "stdout",
          "text": [
            "3 3\n",
            "3 8\n",
            "3 9\n",
            "3 9\n"
          ]
        }
      ],
      "source": [
        "# python code to train pokemon\n",
        "powers = [3, 8, 9, 7]\n",
        "   \n",
        "mini, maxi = 0, 0\n",
        "   \n",
        "for power in powers:\n",
        "    if mini == 0 and maxi == 0:\n",
        "        mini, maxi = powers[0], powers[0]\n",
        "        print(mini, maxi)\n",
        "    else:\n",
        "        mini = min(mini, power)\n",
        "        maxi = max(maxi, power)\n",
        "        print(mini, maxi)\n",
        "        \n",
        "# Time Complexity is O(N) with Space Complexity O(1)"
      ]
    }
  ]
}